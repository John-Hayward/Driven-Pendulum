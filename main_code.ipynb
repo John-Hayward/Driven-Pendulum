{
 "cells": [
  {
   "cell_type": "code",
   "execution_count": 2,
   "metadata": {},
   "outputs": [],
   "source": [
    "#Import relevant libraries\n",
    "import numpy as np\n",
    "from scipy.integrate import solve_ivp\n",
    "import matplotlib.pyplot as plt"
   ]
  },
  {
   "cell_type": "code",
   "execution_count": 3,
   "metadata": {},
   "outputs": [],
   "source": [
    "def derivative(t,y,q,F):\n",
    "    \"\"\"\n",
    "    Returns derivatives for the problem of driven pendulum \n",
    "\n",
    "    Args:\n",
    "        t (float): time\n",
    "        y (list len(y)=2): array [theta, dtheta/dt]\n",
    "        q (float): Damping coefficient\n",
    "        F (float): Driving force\n",
    "    \"\"\"\n",
    "        \n",
    "    return [y[1], -np.sin(y[0]) - q*y[1] + F*np.sin(2/3*t)]"
   ]
  },
  {
   "cell_type": "code",
   "execution_count": null,
   "metadata": {},
   "outputs": [],
   "source": [
    "#generates plots for 10 and 100 oscillations with no driving or damping\n",
    "for i in range(1,3):   \n",
    "    maxtime=(10**i)*(np.pi*2)\n",
    "\n",
    "    solution = solve_ivp(\n",
    "        fun=derivative,\n",
    "        t_span=(0,maxtime),\n",
    "        y0=(0.01,0.0),\n",
    "        args=(0.0,0.0,),\n",
    "        method=\"RK45\"\n",
    "    )\n",
    "\n",
    "    x, y, dydx = solution.t, solution.y[0], solution.y[1]\n",
    "\n",
    "    xtest=np.linspace(0,maxtime,1000**i)\n",
    "    ytest=np.cos(xtest)*0.01\n",
    "    \n",
    "    plt.plot(xtest,ytest, color=\"black\")\n",
    "    \n",
    "    plt.plot(x,y)\n",
    "    \n",
    "    plt.show()"
   ]
  },
  {
   "cell_type": "code",
   "execution_count": null,
   "metadata": {},
   "outputs": [],
   "source": []
  }
 ],
 "metadata": {
  "kernelspec": {
   "display_name": "Python 3.10.6 64-bit",
   "language": "python",
   "name": "python3"
  },
  "language_info": {
   "codemirror_mode": {
    "name": "ipython",
    "version": 3
   },
   "file_extension": ".py",
   "mimetype": "text/x-python",
   "name": "python",
   "nbconvert_exporter": "python",
   "pygments_lexer": "ipython3",
   "version": "3.10.6"
  },
  "orig_nbformat": 4,
  "vscode": {
   "interpreter": {
    "hash": "97cc609b13305c559618ec78a438abc56230b9381f827f22d070313b9a1f3777"
   }
  }
 },
 "nbformat": 4,
 "nbformat_minor": 2
}
